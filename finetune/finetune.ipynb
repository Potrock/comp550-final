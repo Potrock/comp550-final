{
 "cells": [
  {
   "cell_type": "code",
   "execution_count": 1,
   "metadata": {},
   "outputs": [],
   "source": [
    "from lora import generate, load_model\n",
    "from models import ModelArgs, Model, LoRALinear\n",
    "from mlx.utils import tree_map, tree_flatten, tree_unflatten"
   ]
  },
  {
   "cell_type": "code",
   "execution_count": 2,
   "metadata": {},
   "outputs": [],
   "source": [
    "class Args:\n",
    "    def __init__(self, prompt, model_path=\"mistral-mlx\", adapter_path=\"adapters.npz\", num_tokens=2, temp=0):\n",
    "        self.model = model_path\n",
    "        self.adapter_file = adapter_path\n",
    "        self.num_tokens = num_tokens\n",
    "        self.prompt = prompt\n",
    "        self.temp = temp\n"
   ]
  },
  {
   "cell_type": "code",
   "execution_count": 3,
   "metadata": {},
   "outputs": [
    {
     "name": "stdout",
     "output_type": "stream",
     "text": [
      "Total parameters 7242.584M\n",
      "Trainable parameters 0.852M\n"
     ]
    }
   ],
   "source": [
    "model, tokenizer = load_model(\"mistral-mlx\")\n",
    "\n",
    "# Freeze all layers other than LORA linears\n",
    "model.freeze()\n",
    "for l in model.layers[-8:]:\n",
    "    l.attention.wq = LoRALinear.from_linear(l.attention.wq)\n",
    "    l.attention.wv = LoRALinear.from_linear(l.attention.wv)\n",
    "\n",
    "p = sum(v.size for _, v in tree_flatten(model.parameters())) / 10**6\n",
    "print(f\"Total parameters {p:.3f}M\")\n",
    "p = sum(v.size for _, v in tree_flatten(model.trainable_parameters())) / 10**6\n",
    "print(f\"Trainable parameters {p:.3f}M\")\n",
    "\n",
    "   # Load the LoRA adapter weights which we assume should exist by this point\n",
    "model.load_weights(\"adapters.npz\")"
   ]
  },
  {
   "cell_type": "code",
   "execution_count": 4,
   "metadata": {},
   "outputs": [],
   "source": [
    "import json\n",
    "data = []\n",
    "with open('data/test.jsonl', 'r') as f:\n",
    "    for line in f:\n",
    "        data.append(json.loads(line))\n",
    "\n"
   ]
  },
  {
   "cell_type": "code",
   "execution_count": 5,
   "metadata": {},
   "outputs": [],
   "source": [
    "data = [(item['text'].rsplit(' ', 1)[0], item['text'].rsplit(' ', 1)[1]) for item in data]\n",
    "# shuffle data\n",
    "from random import shuffle\n",
    "\n",
    "shuffle(data)"
   ]
  },
  {
   "cell_type": "code",
   "execution_count": 6,
   "metadata": {},
   "outputs": [
    {
     "name": "stdout",
     "output_type": "stream",
     "text": [
      "Classification report for temperature 0:\n",
      "              precision    recall  f1-score   support\n",
      "\n",
      "       False       0.46      0.39      0.42        95\n",
      "        True       0.52      0.59      0.55       105\n",
      "\n",
      "    accuracy                           0.49       200\n",
      "   macro avg       0.49      0.49      0.49       200\n",
      "weighted avg       0.49      0.49      0.49       200\n",
      "\n"
     ]
    }
   ],
   "source": [
    "from sklearn.metrics import classification_report\n",
    "\n",
    "results_by_temp = {}\n",
    "for temperature in [0]:\n",
    "    y_true = []\n",
    "    y_pred = []\n",
    "    for text, label in data[:200]:\n",
    "        args = Args(prompt=text, temp=temperature, num_tokens=1)\n",
    "        res = generate(model, text, tokenizer, args)\n",
    "        if \"True\" in label:\n",
    "            y_true.append(True)\n",
    "        else:\n",
    "            y_true.append(False)\n",
    "        if \"True\" in res:\n",
    "            y_pred.append(True)\n",
    "        else:\n",
    "            y_pred.append(False)\n",
    "\n",
    "    print(f\"Classification report for temperature {temperature}:\")\n",
    "    print(classification_report(y_true, y_pred))\n",
    "    results_by_temp[temperature] = classification_report(y_true, y_pred, output_dict=True)\n"
   ]
  },
  {
   "cell_type": "code",
   "execution_count": 23,
   "metadata": {},
   "outputs": [
    {
     "data": {
      "text/plain": [
       "{0: 0.645, 0.3: 0.62, 0.7: 0.575, 0.9: 0.575}"
      ]
     },
     "execution_count": 23,
     "metadata": {},
     "output_type": "execute_result"
    }
   ],
   "source": [
    "results_by_temp"
   ]
  }
 ],
 "metadata": {
  "kernelspec": {
   "display_name": ".venv",
   "language": "python",
   "name": "python3"
  },
  "language_info": {
   "codemirror_mode": {
    "name": "ipython",
    "version": 3
   },
   "file_extension": ".py",
   "mimetype": "text/x-python",
   "name": "python",
   "nbconvert_exporter": "python",
   "pygments_lexer": "ipython3",
   "version": "3.11.5"
  }
 },
 "nbformat": 4,
 "nbformat_minor": 2
}
