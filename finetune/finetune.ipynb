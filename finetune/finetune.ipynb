{
 "cells": [
  {
   "cell_type": "code",
   "execution_count": 12,
   "metadata": {},
   "outputs": [],
   "source": [
    "from lora import generate, load_model\n",
    "from models import ModelArgs, Model, LoRALinear\n",
    "from mlx.utils import tree_map, tree_flatten, tree_unflatten"
   ]
  },
  {
   "cell_type": "code",
   "execution_count": 16,
   "metadata": {},
   "outputs": [],
   "source": [
    "model, tokenizer = load_model(\"mistral-mlx\")\n",
    "model.load_weights(\"adapters.npz\")"
   ]
  },
  {
   "cell_type": "code",
   "execution_count": 4,
   "metadata": {},
   "outputs": [],
   "source": [
    "def load_and_generate(model_path, adapter_path, prompt, num_tokens=3):\n",
    "    # Load the model and tokenizer\n",
    "    model, tokenizer = load_model(model_path)\n",
    "\n",
    "    # Apply LoRA adapters\n",
    "    model.load_weights(adapter_path)\n",
    "\n",
    "    # Generate tokens\n",
    "    generated_tokens = []\n",
    "    token_gen = generate(model, prompt, tokenizer, num_tokens)\n",
    "    for token in token_gen:\n",
    "        generated_tokens.append(token)\n",
    "\n",
    "    return generated_tokens\n"
   ]
  },
  {
   "cell_type": "code",
   "execution_count": 5,
   "metadata": {},
   "outputs": [],
   "source": [
    "from typing import NamedTuple\n",
    "class Args(NamedTuple):\n",
    "    prompt: str\n",
    "    num_tokens: int\n",
    "    temp: float"
   ]
  },
  {
   "cell_type": "code",
   "execution_count": 9,
   "metadata": {},
   "outputs": [],
   "source": [
    "args = Args(\"User Profile: Alexander Roberts is a Investor in the Private Equity industry. Identifies and invests in high-growth potential businesses and startups. Alexander Roberts has a EducationLevels.MASTERS degree in Finance from New York City, New York, USA.. Article: From: tedebear@leland.Stanford.EDU (Theodore Chen)\\nSubject: Re: Toyota wagons\\nOrganization: DSG, Stanford University, CA 94305, USA\\nLines: 15\\n\\nIn article <1993Apr5.213032.26844@pmafire.inel.gov> russ@pmafire.inel.gov (Russ Brown) writes:\\n>In article <1pq6bl$9rj@news.ysu.edu> ak296@yfn.ysu.edu (John R. Daker) writes:\\n>>Has anybody noticed that Toyota has an uncanny knack for designing horrible\\n>>ugly station wagons?  Tercels, Corollas, Camrys.  Have their designers no\\n>>aesthetic sense at all?\\n>>-- \\n>The new Camry Wagon may just be even uglier than my Tercel.   :-)\\n\\ntoyota has cornered the market on ugly station wagons.\\nafter seeing the new camry sedan, i had thought toyota would\\nfinally turn out something nice-looking.  the new camry station\\nwagon bears a strong resemblance to a hearse, and a weird looking\\none at that.\\n\\n-teddy\\n. Relevant: \", 2, 0.8)"
   ]
  },
  {
   "cell_type": "code",
   "execution_count": 10,
   "metadata": {},
   "outputs": [
    {
     "name": "stdout",
     "output_type": "stream",
     "text": [
      "User Profile: Alexander Roberts is a Investor in the Private Equity industry. Identifies and invests in high-growth potential businesses and startups. Alexander Roberts has a EducationLevels.MASTERS degree in Finance from New York City, New York, USA.. Article: From: tedebear@leland.Stanford.EDU (Theodore Chen)\n",
      "Subject: Re: Toyota wagons\n",
      "Organization: DSG, Stanford University, CA 94305, USA\n",
      "Lines: 15\n",
      "\n",
      "In article <1993Apr5.213032.26844@pmafire.inel.gov> russ@pmafire.inel.gov (Russ Brown) writes:\n",
      ">In article <1pq6bl$9rj@news.ysu.edu> ak296@yfn.ysu.edu (John R. Daker) writes:\n",
      ">>Has anybody noticed that Toyota has an uncanny knack for designing horrible\n",
      ">>ugly station wagons?  Tercels, Corollas, Camrys.  Have their designers no\n",
      ">>aesthetic sense at all?\n",
      ">>-- \n",
      ">The new Camry Wagon may just be even uglier than my Tercel.   :-)\n",
      "\n",
      "toyota has cornered the market on ugly station wagons.\n",
      "after seeing the new camry sedan, i had thought toyota would\n",
      "finally turn out something nice-looking.  the new camry station\n",
      "wagon bears a strong resemblance to a hearse, and a weird looking\n",
      "one at that.\n",
      "\n",
      "-teddy\n",
      ". Relevant: ****\n",
      "\n"
     ]
    },
    {
     "data": {
      "text/plain": [
       "['*', '*', '*', '*', '\\n']"
      ]
     },
     "execution_count": 10,
     "metadata": {},
     "output_type": "execute_result"
    }
   ],
   "source": [
    "load_and_generate(\"mistral-mlx\", \"adapters.npz\", \"User Profile: Alexander Roberts is a Investor in the Private Equity industry. Identifies and invests in high-growth potential businesses and startups. Alexander Roberts has a EducationLevels.MASTERS degree in Finance from New York City, New York, USA.. Article: From: tedebear@leland.Stanford.EDU (Theodore Chen)\\nSubject: Re: Toyota wagons\\nOrganization: DSG, Stanford University, CA 94305, USA\\nLines: 15\\n\\nIn article <1993Apr5.213032.26844@pmafire.inel.gov> russ@pmafire.inel.gov (Russ Brown) writes:\\n>In article <1pq6bl$9rj@news.ysu.edu> ak296@yfn.ysu.edu (John R. Daker) writes:\\n>>Has anybody noticed that Toyota has an uncanny knack for designing horrible\\n>>ugly station wagons?  Tercels, Corollas, Camrys.  Have their designers no\\n>>aesthetic sense at all?\\n>>-- \\n>The new Camry Wagon may just be even uglier than my Tercel.   :-)\\n\\ntoyota has cornered the market on ugly station wagons.\\nafter seeing the new camry sedan, i had thought toyota would\\nfinally turn out something nice-looking.  the new camry station\\nwagon bears a strong resemblance to a hearse, and a weird looking\\none at that.\\n\\n-teddy\\n. Relevant: \", args)"
   ]
  },
  {
   "cell_type": "code",
   "execution_count": null,
   "metadata": {},
   "outputs": [],
   "source": [
    "model, tokenizer = load_model(args.model)\n",
    "\n",
    "    # Freeze all layers other than LORA linears\n",
    "model.freeze()\n",
    "for l in model.layers[-args.lora_layers :]:\n",
    "    l.attention.wq = LoRALinear.from_linear(l.attention.wq)\n",
    "    l.attention.wv = LoRALinear.from_linear(l.attention.wv)\n",
    "\n",
    "p = sum(v.size for _, v in tree_flatten(model.parameters())) / 10**6\n",
    "print(f\"Total parameters {p:.3f}M\")\n",
    "p = sum(v.size for _, v in tree_flatten(model.trainable_parameters())) / 10**6\n",
    "print(f\"Trainable parameters {p:.3f}M\")\n",
    "\n",
    "   # Load the LoRA adapter weights which we assume should exist by this point\n",
    "model.load_weights(\"adapters.npz\")\n",
    "print(\"Generating\")\n",
    "generate(model, args.prompt, tokenizer, args)"
   ]
  }
 ],
 "metadata": {
  "kernelspec": {
   "display_name": ".venv",
   "language": "python",
   "name": "python3"
  },
  "language_info": {
   "codemirror_mode": {
    "name": "ipython",
    "version": 3
   },
   "file_extension": ".py",
   "mimetype": "text/x-python",
   "name": "python",
   "nbconvert_exporter": "python",
   "pygments_lexer": "ipython3",
   "version": "3.11.5"
  }
 },
 "nbformat": 4,
 "nbformat_minor": 2
}
