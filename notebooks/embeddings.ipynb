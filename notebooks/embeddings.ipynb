{
 "cells": [
  {
   "cell_type": "code",
   "execution_count": 3,
   "metadata": {},
   "outputs": [],
   "source": [
    "from dotenv import load_dotenv\n",
    "import instructor\n",
    "from pydantic import BaseModel, Field\n",
    "from openai import AsyncOpenAI\n",
    "from typing import Optional, List\n",
    "import enum\n",
    "from tqdm import tqdm\n",
    "import numpy as np\n",
    "\n",
    "load_dotenv()\n",
    "\n",
    "aclient = instructor.apatch(AsyncOpenAI())"
   ]
  },
  {
   "cell_type": "code",
   "execution_count": 4,
   "metadata": {},
   "outputs": [],
   "source": [
    "import json\n",
    "\n",
    "\n",
    "class EducationLevels(str, enum.Enum):\n",
    "    HIGH_SCHOOL = \"high_school\"\n",
    "    BACHELORS = \"bachelors\"\n",
    "    MASTERS = \"masters\"\n",
    "    PHD = \"phd\"\n",
    "    NONE = \"none\"\n",
    "\n",
    "\n",
    "class Location(BaseModel):\n",
    "    city: str\n",
    "    state_or_province: str\n",
    "    country: str\n",
    "\n",
    "\n",
    "class FakeProfile(BaseModel):\n",
    "    name: str\n",
    "    occupation: str\n",
    "    industry: str\n",
    "    job_description: str\n",
    "    education: EducationLevels\n",
    "    major: Optional[str] = Field(default=None)\n",
    "    location: Location\n",
    "\n",
    "    @classmethod\n",
    "    def from_json(cls, data: str):\n",
    "        return cls(**json.loads(data))\n",
    "\n",
    "\n",
    "class FakeProfiles(BaseModel):\n",
    "    profiles: List[FakeProfile]\n",
    "\n",
    "    @classmethod\n",
    "    def from_json(cls, data: str):\n",
    "        return cls(**json.loads(data))"
   ]
  },
  {
   "cell_type": "code",
   "execution_count": 5,
   "metadata": {},
   "outputs": [],
   "source": [
    "SYSTEM_PROMPT_GENERATE = \"\"\"\n",
    "You are a helpful AI assistant that generates mock data for different profiles. Given a 20newsgroup category, generate 20 fake profiles for people who might be interested in news from that category.\n",
    "For example:\n",
    "Input: comp.sys.ibm.pc.hardware\n",
    "Output: 20 fake profiles for people interested in computers and hardware where news in this category would be relevant to them.\n",
    "\n",
    "Do not hyper tailor the profiles to the category. For example, if the category is about computers, do not generate profiles for people who are only interested in computers. Instead, generate profiles for people who are interested in computers and other things. The data should be realistic and varied.\n",
    "\"\"\""
   ]
  },
  {
   "cell_type": "code",
   "execution_count": 6,
   "metadata": {},
   "outputs": [],
   "source": [
    "async def generate_fake_profile_by_news_group(news_group: str) -> FakeProfile:\n",
    "    profile = await aclient.chat.completions.create(\n",
    "        model=\"gpt-4-1106-preview\",\n",
    "        response_model=FakeProfiles,\n",
    "        messages=[\n",
    "            {\"role\": \"system\", \"content\": SYSTEM_PROMPT_GENERATE},\n",
    "            {\"role\": \"user\", \"content\": news_group},\n",
    "        ],\n",
    "        max_retries=3,\n",
    "    )\n",
    "\n",
    "    return profile"
   ]
  },
  {
   "cell_type": "code",
   "execution_count": 7,
   "metadata": {},
   "outputs": [],
   "source": [
    "async def generate_and_save_profiles(news_group: str):\n",
    "    profile = await generate_fake_profile_by_news_group(news_group)\n",
    "    with open(f\"../fake_profiles/{news_group.replace('.', '_')}.json\", \"w\") as f:\n",
    "        f.write(profile.model_dump_json())"
   ]
  },
  {
   "cell_type": "code",
   "execution_count": 8,
   "metadata": {},
   "outputs": [],
   "source": [
    "NEWSGROUPS = [\n",
    "    \"alt.atheism\",\n",
    "    \"comp.windows.x\",\n",
    "    \"misc.forsale\",\n",
    "    \"rec.autos\",\n",
    "    \"sci.med\",\n",
    "    \"rec.sport.hockey\",\n",
    "    \"sci.space\",\n",
    "    \"soc.religion.christian\",\n",
    "    \"talk.politics.guns\",\n",
    "]"
   ]
  },
  {
   "cell_type": "code",
   "execution_count": null,
   "metadata": {},
   "outputs": [],
   "source": [
    "for news_group in NEWSGROUPS:\n",
    "    await generate_and_save_profiles(news_group)"
   ]
  },
  {
   "cell_type": "markdown",
   "metadata": {},
   "source": [
    "## Loading the data\n"
   ]
  },
  {
   "cell_type": "code",
   "execution_count": 9,
   "metadata": {},
   "outputs": [],
   "source": [
    "import json\n",
    "\n",
    "\n",
    "# Load the profiles from the json files\n",
    "profiles_data = {}\n",
    "for news_group in NEWSGROUPS:\n",
    "    with open(f\"../fake_profiles/{news_group.replace('.', '_')}.json\", \"r\") as f:\n",
    "        profiles_data[news_group] = FakeProfiles.from_json(f.read())"
   ]
  },
  {
   "cell_type": "code",
   "execution_count": 10,
   "metadata": {},
   "outputs": [
    {
     "data": {
      "text/plain": [
       "{'alt.atheism': FakeProfiles(profiles=[FakeProfile(name='Thomas Reed', occupation='Journalist', industry='Media', job_description='Writes articles on various social topics, including religion and secularism.', education=<EducationLevels.BACHELORS: 'bachelors'>, major='Journalism', location=Location(city='Austin', state_or_province='Texas', country='USA')), FakeProfile(name='Samantha Brooks', occupation='College Professor', industry='Education', job_description='Teaches courses on philosophy, including metaphysics and ethics.', education=<EducationLevels.PHD: 'phd'>, major='Philosophy', location=Location(city='Berkeley', state_or_province='California', country='USA')), FakeProfile(name='Marcus Li', occupation='Software Developer', industry='Technology', job_description='Develops mobile applications with a focus on social networking.', education=<EducationLevels.BACHELORS: 'bachelors'>, major='Computer Science', location=Location(city='Seattle', state_or_province='Washington', country='USA')), FakeProfile(name='Emily Nguyen', occupation='Human Rights Activist', industry='NGO', job_description='Advocates for freedom of belief and expression around the world.', education=<EducationLevels.MASTERS: 'masters'>, major='International Relations', location=Location(city='New York', state_or_province='New York', country='USA')), FakeProfile(name='Jordan Smith', occupation='Blogger', industry='Digital Media', job_description='Runs a popular blog discussing religion, atheism, and secular life.', education=<EducationLevels.BACHELORS: 'bachelors'>, major='English', location=Location(city='Denver', state_or_province='Colorado', country='USA')), FakeProfile(name='Laura GarcÃ\\xada', occupation='Civil Liberties Lawyer', industry='Legal', job_description='Specializes in cases defending freedom of speech and beliefs.', education=<EducationLevels.PHD: 'phd'>, major='Law', location=Location(city='Los Angeles', state_or_province='California', country='USA')), FakeProfile(name='Oliver Zhang', occupation='Political Analyst', industry='Politics', job_description='Researches and comments on the intersection of religion and politics.', education=<EducationLevels.MASTERS: 'masters'>, major='Political Science', location=Location(city='Washington', state_or_province='D.C.', country='USA')), FakeProfile(name='Noah Martinez', occupation='Social Worker', industry='Social Services', job_description='Provides support to individuals in diverse communities, including discussions on belief systems.', education=<EducationLevels.MASTERS: 'masters'>, major='Social Work', location=Location(city='San Antonio', state_or_province='Texas', country='USA')), FakeProfile(name='Isabella Jones', occupation='Library Science Specialist', industry='Information Services', job_description='Manages collections, including texts on religion and atheism.', education=<EducationLevels.MASTERS: 'masters'>, major='Library Science', location=Location(city='Chicago', state_or_province='Illinois', country='USA')), FakeProfile(name='Ethan Brown', occupation='Podcast Host', industry='Entertainment', job_description='Hosts discussions about cultural beliefs and the impact on modern society.', education=<EducationLevels.BACHELORS: 'bachelors'>, major='Communications', location=Location(city='Atlanta', state_or_province='Georgia', country='USA')), FakeProfile(name='Ava Wilson', occupation='Author', industry='Publishing', job_description='Writes fiction and non-fiction exploring themes of faith and skepticism.', education=<EducationLevels.BACHELORS: 'bachelors'>, major='Creative Writing', location=Location(city='Boston', state_or_province='Massachusetts', country='USA')), FakeProfile(name='Michael Johnson', occupation='Research Scientist', industry='Science and Research', job_description='Studies cognitive science, including belief formation and change.', education=<EducationLevels.PHD: 'phd'>, major='Cognitive Science', location=Location(city='San Diego', state_or_province='California', country='USA')), FakeProfile(name='Sophia Williams', occupation='Life Coach', industry='Self-help', job_description='Helps clients with personal development, including exploring their belief systems.', education=<EducationLevels.BACHELORS: 'bachelors'>, major='Psychology', location=Location(city='Las Vegas', state_or_province='Nevada', country='USA')), FakeProfile(name='Alexander Rodriguez', occupation='Debate Coach', industry='Education', job_description='Teaches high school students critical thinking and argumentation, focusing on religious and secular themes.', education=<EducationLevels.MASTERS: 'masters'>, major='Education', location=Location(city='Houston', state_or_province='Texas', country='USA')), FakeProfile(name='Madison Martinez', occupation='Humanitarian Aid Coordinator', industry='International Aid', job_description='Coordinates aid in crisis regions, often involves engaging with diverse belief systems.', education=<EducationLevels.BACHELORS: 'bachelors'>, major='Development Studies', location=Location(city='Philadelphia', state_or_province='Pennsylvania', country='USA')), FakeProfile(name='Aiden Lee', occupation='Ethical Hacker', industry='Cybersecurity', job_description='Protects organizations from digital threats, advocates for privacy and ethics in tech industry.', education=<EducationLevels.BACHELORS: 'bachelors'>, major='Information Technology', location=Location(city='San Jose', state_or_province='California', country='USA')), FakeProfile(name='Mia Davis', occupation='Graphic Designer', industry='Creative Arts', job_description='Creates visual content for campaigns, including those with secular themes.', education=<EducationLevels.BACHELORS: 'bachelors'>, major='Graphic Design', location=Location(city='Miami', state_or_province='Florida', country='USA')), FakeProfile(name='William Thompson', occupation='Social Media Strategist', industry='Marketing', job_description='Devises social media campaigns that often involve discussions on current religious and secular topics.', education=<EducationLevels.BACHELORS: 'bachelors'>, major='Marketing', location=Location(city='Nashville', state_or_province='Tennessee', country='USA')), FakeProfile(name='Grace Kim', occupation='Documentary Filmmaker', industry='Film', job_description='Directs documentaries covering a wide array of subjects, including the impact of religion on society.', education=<EducationLevels.BACHELORS: 'bachelors'>, major='Film Studies', location=Location(city='Portland', state_or_province='Oregon', country='USA')), FakeProfile(name='Liam Hernandez', occupation='Anthropologist', industry='Academia', job_description='Studies cultural practices, including the role of atheism in different societies.', education=<EducationLevels.PHD: 'phd'>, major='Anthropology', location=Location(city='Minneapolis', state_or_province='Minnesota', country='USA'))]),\n",
       " 'comp.windows.x': FakeProfiles(profiles=[FakeProfile(name='Alex Johnson', occupation='Software Developer', industry='Technology', job_description='Develops desktop applications for various platforms', education=<EducationLevels.BACHELORS: 'bachelors'>, major='Computer Science', location=Location(city='Austin', state_or_province='Texas', country='USA')), FakeProfile(name='Melissa Wang', occupation='Graphic Designer', industry='Design', job_description='Creates visuals and UI elements for software', education=<EducationLevels.BACHELORS: 'bachelors'>, major='Graphic Design', location=Location(city='San Francisco', state_or_province='California', country='USA')), FakeProfile(name='Ethan Brown', occupation='IT Support Specialist', industry='Information Technology', job_description='Provides technical support and troubleshooting services', education=<EducationLevels.BACHELORS: 'bachelors'>, major=None, location=Location(city='Seattle', state_or_province='Washington', country='USA')), FakeProfile(name='Samantha Morales', occupation='Systems Analyst', industry='Technology', job_description='Analyzes system requirements and ensures systems work efficiently.', education=<EducationLevels.MASTERS: 'masters'>, major=None, location=Location(city='New York', state_or_province='New York', country='USA')), FakeProfile(name='David Park', occupation='Network Engineer', industry='Telecommunications', job_description='Designs and implements network solutions', education=<EducationLevels.BACHELORS: 'bachelors'>, major='Network Engineering', location=Location(city='Chicago', state_or_province='Illinois', country='USA')), FakeProfile(name='Sarah Kim', occupation='Database Administrator', industry='Technology', job_description='Maintains and secures company databases', education=<EducationLevels.BACHELORS: 'bachelors'>, major='Information Technology', location=Location(city='Boston', state_or_province='Massachusetts', country='USA')), FakeProfile(name='Erica Martinez', occupation='Tech Entrepreneur', industry='Technology Startups', job_description='Runs a startup focused on innovative tech solutions', education=<EducationLevels.BACHELORS: 'bachelors'>, major=None, location=Location(city='Boulder', state_or_province='Colorado', country='USA')), FakeProfile(name='Kevin Patel', occupation='Hardware Technician', industry='Consumer Electronics', job_description='Repairs and maintains computer hardware systems', education=<EducationLevels.HIGH_SCHOOL: 'high_school'>, major=None, location=Location(city='Houston', state_or_province='Texas', country='USA')), FakeProfile(name='Amanda Roberts', occupation='Web Developer', industry='Technology', job_description='Builds and maintains websites', education=<EducationLevels.BACHELORS: 'bachelors'>, major='Web Development', location=Location(city='Miami', state_or_province='Florida', country='USA')), FakeProfile(name='Benjamin Lee', occupation='Computer Scientist', industry='Research & Development', job_description='Conducts research in algorithms and computational theory', education=<EducationLevels.PHD: 'phd'>, major='Computer Science', location=Location(city='Palo Alto', state_or_province='California', country='USA')), FakeProfile(name='Natalie Smith', occupation='Project Manager', industry='Software Development', job_description='Manages technology projects from conception to delivery', education=<EducationLevels.MASTERS: 'masters'>, major=None, location=Location(city='San Diego', state_or_province='California', country='USA')), FakeProfile(name='Jacob Rodriguez', occupation='Cybersecurity Analyst', industry='Security', job_description='Protects organizational data from cyber threats', education=<EducationLevels.MASTERS: 'masters'>, major='Cybersecurity', location=Location(city='Denver', state_or_province='Colorado', country='USA')), FakeProfile(name='Stephanie Clark', occupation='UX/UI Designer', industry='Software Development', job_description='Designs user interfaces and experiences for software products', education=<EducationLevels.BACHELORS: 'bachelors'>, major='Design', location=Location(city='Minneapolis', state_or_province='Minnesota', country='USA')), FakeProfile(name='Christopher Huang', occupation='Product Manager', industry='Technology', job_description='Oversees product life cycle from design to market release', education=<EducationLevels.MASTERS: 'masters'>, major=None, location=Location(city='Raleigh', state_or_province='North Carolina', country='USA')), FakeProfile(name='Heather Diaz', occupation='Tech Support Manager', industry='Customer Service', job_description='Leads a team resolving technology-related customer issues', education=<EducationLevels.MASTERS: 'masters'>, major=None, location=Location(city='Las Vegas', state_or_province='Nevada', country='USA')), FakeProfile(name='Brandon Turner', occupation='Electrical Engineer', industry='Electronics', job_description='Develops electrical systems and components', education=<EducationLevels.MASTERS: 'masters'>, major='Electrical Engineering', location=Location(city='Phoenix', state_or_province='Arizona', country='USA')), FakeProfile(name='Hannah Allen', occupation='Data Scientist', industry='Big Data', job_description='Analyzes complex data sets to identify business and market trends', education=<EducationLevels.MASTERS: 'masters'>, major='Data Science', location=Location(city='Atlanta', state_or_province='Georgia', country='USA')), FakeProfile(name='Victoria Garcia', occupation='Research & Development Engineer', industry='Technology', job_description='Engages in research and development for cutting-edge technology', education=<EducationLevels.PHD: 'phd'>, major='Engineering', location=Location(city='Portland', state_or_province='Oregon', country='USA')), FakeProfile(name='Tyler Nguyen', occupation='Software Architect', industry='Technology', job_description='Designs software systems with architectural considerations', education=<EducationLevels.MASTERS: 'masters'>, major='Software Engineering', location=Location(city='Salt Lake City', state_or_province='Utah', country='USA')), FakeProfile(name='Sophia Martin', occupation='Technical Writer', industry='Publishing', job_description='Writes manuals, guides, and documentation for tech products', education=<EducationLevels.BACHELORS: 'bachelors'>, major='Technical Communication', location=Location(city='Madison', state_or_province='Wisconsin', country='USA'))]),\n",
       " 'misc.forsale': FakeProfiles(profiles=[FakeProfile(name='Elizabeth Dean', occupation='Marketing Coordinator', industry='Advertising', job_description='Develops and manages advertising campaigns; analyzes sales data.', education=<EducationLevels.BACHELORS: 'bachelors'>, major='Marketing', location=Location(city='Columbus', state_or_province='Ohio', country='USA')), FakeProfile(name='Harrison Smith', occupation='Vintage Store Owner', industry='Retail', job_description='Procures and sells vintage clothing and accessories.', education=<EducationLevels.HIGH_SCHOOL: 'high_school'>, major=None, location=Location(city='Portland', state_or_province='Oregon', country='USA')), FakeProfile(name='Tanya Rivera', occupation='Real Estate Agent', industry='Real Estate', job_description='Assists clients in buying, selling, and renting properties.', education=<EducationLevels.BACHELORS: 'bachelors'>, major='Business Administration', location=Location(city='Tampa', state_or_province='Florida', country='USA')), FakeProfile(name='Andrew Lopez', occupation='Freelance Web Developer', industry='Information Technology', job_description='Designs and develops websites for various clients across industries.', education=<EducationLevels.BACHELORS: 'bachelors'>, major='Web Development', location=Location(city='San Francisco', state_or_province='California', country='USA')), FakeProfile(name='Kyle Cho', occupation='Restaurant Manager', industry='Hospitality', job_description='Oversees daily operations of a fast-paced restaurant.', education=<EducationLevels.BACHELORS: 'bachelors'>, major='Hospitality Management', location=Location(city='Chicago', state_or_province='Illinois', country='USA')), FakeProfile(name='Vanessa Carter', occupation='Graphic Designer', industry='Design', job_description='Creates visual concepts for clients across various media.', education=<EducationLevels.BACHELORS: 'bachelors'>, major='Graphic Design', location=Location(city='Seattle', state_or_province='Washington', country='USA')), FakeProfile(name='Raj Patel', occupation='Business Analyst', industry='Finance', job_description='Analyzes market trends to advise investment opportunities.', education=<EducationLevels.MASTERS: 'masters'>, major='Finance', location=Location(city='New York', state_or_province='New York', country='USA')), FakeProfile(name='Samantha Lee', occupation='Antique Dealer', industry='Retail', job_description='Specializes in procuring and selling antique furniture and artwork.', education=<EducationLevels.BACHELORS: 'bachelors'>, major='Art History', location=Location(city='New Orleans', state_or_province='Louisiana', country='USA')), FakeProfile(name=\"James O'Neil\", occupation='Used Car Salesman', industry='Automotive', job_description='Buys and sells pre-owned vehicles, manages lot inventory.', education=<EducationLevels.HIGH_SCHOOL: 'high_school'>, major=None, location=Location(city='Phoenix', state_or_province='Arizona', country='USA')), FakeProfile(name='Gloria Hernandez', occupation='E-commerce Specialist', industry='Online Marketplace', job_description='Manages online sales and marketing for a range of products.', education=<EducationLevels.BACHELORS: 'bachelors'>, major='E-commerce', location=Location(city='Miami', state_or_province='Florida', country='USA')), FakeProfile(name='Mohammed Al-Farsi', occupation='Entrepreneur', industry='E-commerce', job_description='Operates an online store specializing in custom tech gadgets.', education=<EducationLevels.MASTERS: 'masters'>, major='Entrepreneurship', location=Location(city='Dubai', state_or_province='Dubai', country='UAE')), FakeProfile(name='Christina Wong', occupation='Professional Blogger', industry='Digital Media', job_description='Writes and manages content about lifestyle and consumer goods.', education=<EducationLevels.BACHELORS: 'bachelors'>, major='English', location=Location(city='Vancouver', state_or_province='British Columbia', country='Canada')), FakeProfile(name='Dylan Rogers', occupation='Fitness Instructor', industry='Health and Wellness', job_description='Provides personal training and sells fitness equipment.', education=<EducationLevels.NONE: 'none'>, major=None, location=Location(city='Austin', state_or_province='Texas', country='USA')), FakeProfile(name='Hannah Cohen', occupation='Interior Decorator', industry='Interior Design', job_description='Designs indoor spaces and curates furniture for clients.', education=<EducationLevels.BACHELORS: 'bachelors'>, major='Interior Design', location=Location(city='Boston', state_or_province='Massachusetts', country='USA')), FakeProfile(name='Isaac Kim', occupation='Tech Reviewer', industry='Journalism', job_description='Writes reviews for the latest tech products and hardware.', education=<EducationLevels.BACHELORS: 'bachelors'>, major='Journalism', location=Location(city='Los Angeles', state_or_province='California', country='USA')), FakeProfile(name='Anita Singh', occupation='Wedding Planner', industry='Event Planning', job_description='Organizes and sells wedding related services and products.', education=<EducationLevels.BACHELORS: 'bachelors'>, major='Event Management', location=Location(city='Dallas', state_or_province='Texas', country='USA')), FakeProfile(name='Jason Matthews', occupation='Photographer', industry='Photography', job_description='Captures images for events and sells photography gear.', education=<EducationLevels.BACHELORS: 'bachelors'>, major='Photography', location=Location(city='Atlanta', state_or_province='Georgia', country='USA')), FakeProfile(name='Stacey Monroe', occupation='Toy Store Owner', industry='Retail', job_description=\"Operates a store specializing in educational toys and children's products.\", education=<EducationLevels.BACHELORS: 'bachelors'>, major='Business', location=Location(city='Minneapolis', state_or_province='Minnesota', country='USA')), FakeProfile(name='Alex Johnson', occupation='App Developer', industry='Mobile Technology', job_description='Develops mobile applications and promotes app-related merchandise.', education=<EducationLevels.BACHELORS: 'bachelors'>, major='Computer Science', location=Location(city='Denver', state_or_province='Colorado', country='USA')), FakeProfile(name='Olivia Green', occupation='Bookstore Owner', industry='Retail', job_description='Runs a local bookstore with new and used books, offers rare book findings.', education=<EducationLevels.BACHELORS: 'bachelors'>, major='Literature', location=Location(city='Nashville', state_or_province='Tennessee', country='USA'))]),\n",
       " 'rec.autos': FakeProfiles(profiles=[FakeProfile(name='Emily Hamilton', occupation='Marketing Specialist', industry='E-commerce', job_description='Develops and implements digital marketing strategies for online sales platforms.', education=<EducationLevels.BACHELORS: 'bachelors'>, major=None, location=Location(city='Austin', state_or_province='Texas', country='USA')), FakeProfile(name='Carlos Gutierrez', occupation='Mechanical Engineer', industry='Industrial Equipment', job_description='Designs and oversees the production of industrial machinery and components.', education=<EducationLevels.MASTERS: 'masters'>, major='Mechanical Engineering', location=Location(city='Detroit', state_or_province='Michigan', country='USA')), FakeProfile(name='Yasmin Alibhai', occupation='Designer', industry='Furniture Design', job_description='Creates innovative designs for contemporary furniture pieces.', education=<EducationLevels.BACHELORS: 'bachelors'>, major='Industrial Design', location=Location(city='San Francisco', state_or_province='California', country='USA')), FakeProfile(name='Jack Petersen', occupation='Business Consultant', industry='Business Services', job_description='Provides strategic advice to companies looking to improve operations and profitability.', education=<EducationLevels.MASTERS: 'masters'>, major=None, location=Location(city='Orlando', state_or_province='Florida', country='USA')), FakeProfile(name='Alisha Rahman', occupation='Software Engineer', industry='Software Development', job_description='Specializes in developing scalable cloud-based applications.', education=<EducationLevels.BACHELORS: 'bachelors'>, major='Computer Science', location=Location(city='New York City', state_or_province='New York', country='USA')), FakeProfile(name=\"Brendan O'Connor\", occupation='Art Director', industry='Advertising Agency', job_description='Leads creative campaigns for major consumer brands.', education=<EducationLevels.BACHELORS: 'bachelors'>, major=None, location=Location(city='Los Angeles', state_or_province='California', country='USA')), FakeProfile(name='Chloe Taylor', occupation='Civil Engineer', industry='Public Works', job_description='Plans and supervises large-scale infrastructure projects.', education=<EducationLevels.MASTERS: 'masters'>, major='Civil Engineering', location=Location(city='Columbus', state_or_province='Ohio', country='USA')), FakeProfile(name='Ethan Smith', occupation='Data Analyst', industry='Financial Services', job_description='Analyzes complex data sets to inform investment strategies and risk management.', education=<EducationLevels.BACHELORS: 'bachelors'>, major='Statistics', location=Location(city='Charlotte', state_or_province='North Carolina', country='USA')), FakeProfile(name='Sophie Martin', occupation='Real Estate Broker', industry='Real Estate', job_description='Helps clients to buy, sell, and rent properties.', education=<EducationLevels.BACHELORS: 'bachelors'>, major=None, location=Location(city='Denver', state_or_province='Colorado', country='USA')), FakeProfile(name='Nathan Wong', occupation='Event Planner', industry='Hospitality', job_description='Organizes and coordinates corporate events and conferences.', education=<EducationLevels.BACHELORS: 'bachelors'>, major='Hospitality Management', location=Location(city='Seattle', state_or_province='Washington', country='USA')), FakeProfile(name='Lara Gibson', occupation='Accountant', industry='Accounting Firm', job_description='Manages financial records and tax filings for clients.', education=<EducationLevels.MASTERS: 'masters'>, major='Accounting', location=Location(city='Chicago', state_or_province='Illinois', country='USA')), FakeProfile(name='Mohammed Patel', occupation='IT Specialist', industry='Technology', job_description='Supports network infrastructure and troubleshoots technology issues.', education=<EducationLevels.BACHELORS: 'bachelors'>, major='Information Technology', location=Location(city='Houston', state_or_province='Texas', country='USA')), FakeProfile(name='Diana Reynolds', occupation='Chef', industry='Culinary Arts', job_description='Creates new recipes and maintains high standards for restaurant menu.', education=<EducationLevels.BACHELORS: 'bachelors'>, major=None, location=Location(city='Atlanta', state_or_province='Georgia', country='USA')), FakeProfile(name='Lucas Green', occupation='Photographer', industry='Freelance', job_description='Captures professional photographs for various events and media publications.', education=<EducationLevels.BACHELORS: 'bachelors'>, major='Photography', location=Location(city='Pittsburgh', state_or_province='Pennsylvania', country='USA')), FakeProfile(name='Isabella Carter', occupation='Journalist', industry='Broadcasting', job_description='Reports on current events and investigations for a news network.', education=<EducationLevels.BACHELORS: 'bachelors'>, major='Journalism', location=Location(city='Raleigh', state_or_province='North Carolina', country='USA')), FakeProfile(name='Matthew Lee', occupation='Physical Therapist', industry='Healthcare', job_description='Works with patients to rehabilitate injuries and improve physical function.', education=<EducationLevels.MASTERS: 'masters'>, major=None, location=Location(city='Philadelphia', state_or_province='Pennsylvania', country='USA')), FakeProfile(name='Samantha Davis', occupation='Graphic Designer', industry='Marketing', job_description='Designs visual content for brand identities, advertisements, and digital platforms.', education=<EducationLevels.BACHELORS: 'bachelors'>, major='Graphic Design', location=Location(city='Las Vegas', state_or_province='Nevada', country='USA')), FakeProfile(name='Ryan Thompson', occupation='Professor', industry='Academia', job_description='Teaches and conducts research in the field of mechanical engineering.', education=<EducationLevels.PHD: 'phd'>, major='Mechanical Engineering', location=Location(city='Ann Arbor', state_or_province='Michigan', country='USA')), FakeProfile(name='Olivia Johnson', occupation='HR Manager', industry='Human Resources', job_description='Oversees recruitment, staff development, and retention strategies for a company.', education=<EducationLevels.MASTERS: 'masters'>, major='Human Resource Management', location=Location(city='Boston', state_or_province='Massachusetts', country='USA')), FakeProfile(name='Alexander Roberts', occupation='Investor', industry='Private Equity', job_description='Identifies and invests in high-growth potential businesses and startups.', education=<EducationLevels.MASTERS: 'masters'>, major='Finance', location=Location(city='New York City', state_or_province='New York', country='USA'))]),\n",
       " 'sci.med': FakeProfiles(profiles=[FakeProfile(name='Emily Hanson', occupation='Medical Student', industry='Healthcare', job_description='Studying to become a physician', education=<EducationLevels.MASTERS: 'masters'>, major='Medicine', location=Location(city='Boston', state_or_province='Massachusetts', country='USA')), FakeProfile(name='Raj Patel', occupation='Biomedical Engineer', industry='Medical Devices', job_description='Designing and testing medical devices', education=<EducationLevels.MASTERS: 'masters'>, major='Biomedical Engineering', location=Location(city='San Diego', state_or_province='California', country='USA')), FakeProfile(name='Luisa Moreno', occupation='Pharmaceutical Sales Representative', industry='Pharmaceuticals', job_description='Providing medication solutions to healthcare facilities', education=<EducationLevels.BACHELORS: 'bachelors'>, major='Business Administration', location=Location(city='Miami', state_or_province='Florida', country='USA')), FakeProfile(name='Markus Braun', occupation='Clinical Research Coordinator', industry='Healthcare', job_description='Managing clinical trials and studies', education=<EducationLevels.BACHELORS: 'bachelors'>, major='Biology', location=Location(city='Berlin', state_or_province='Berlin', country='Germany')), FakeProfile(name='Nina Kovač', occupation='Nurse Practitioner', industry='Healthcare', job_description='Delivering primary care to patients', education=<EducationLevels.MASTERS: 'masters'>, major='Nursing', location=Location(city='Zagreb', state_or_province='City of Zagreb', country='Croatia')), FakeProfile(name='Chen Wei', occupation='Epidemiologist', industry='Public Health', job_description='Investigating patterns and causes of disease', education=<EducationLevels.PHD: 'phd'>, major='Epidemiology', location=Location(city='Beijing', state_or_province='', country='China')), FakeProfile(name='Alex Smith', occupation='Healthcare Administrator', industry='Healthcare Management', job_description='Overseeing the operations of a hospital', education=<EducationLevels.MASTERS: 'masters'>, major='Health Administration', location=Location(city='Chicago', state_or_province='Illinois', country='USA')), FakeProfile(name='Anita Desai', occupation='General Practitioner', industry='Healthcare', job_description='Providing general health care to the community', education=<EducationLevels.MASTERS: 'masters'>, major='Medicine', location=Location(city='New Delhi', state_or_province='Delhi', country='India')), FakeProfile(name='Victor Dubois', occupation='Pharmacist', industry='Healthcare', job_description='Dispensing medications and advising on their use', education=<EducationLevels.MASTERS: 'masters'>, major='Pharmacy', location=Location(city='Paris', state_or_province='Île-de-France', country='France')), FakeProfile(name='Sarah Al-Ghamdi', occupation='Medical Lab Technician', industry='Healthcare', job_description='Performing tests and analyses in a medical laboratory', education=<EducationLevels.BACHELORS: 'bachelors'>, major='Medical Laboratory Science', location=Location(city='Riyadh', state_or_province='Riyadh Province', country='Saudi Arabia')), FakeProfile(name='John Okafor', occupation='Public Health Advisor', industry='Government', job_description='Developing policies to improve public health', education=<EducationLevels.MASTERS: 'masters'>, major='Public Health', location=Location(city='Lagos', state_or_province='Lagos', country='Nigeria')), FakeProfile(name='Sophia Lee', occupation='Physical Therapist', industry='Healthcare', job_description='Helping patients to regain mobility and manage pain', education=<EducationLevels.PHD: 'phd'>, major='Physical Therapy', location=Location(city='Seoul', state_or_province='', country='South Korea')), FakeProfile(name='Gabriel Garcia', occupation='Medical Technology Developer', industry='HealthTech', job_description='Creating innovative healthcare software solutions', education=<EducationLevels.BACHELORS: 'bachelors'>, major='Computer Science', location=Location(city='San Francisco', state_or_province='California', country='USA')), FakeProfile(name='Isabel Rodriguez', occupation='Veterinarian', industry='Veterinary Medicine', job_description='Providing medical care to animals', education=<EducationLevels.MASTERS: 'masters'>, major='Veterinary Medicine', location=Location(city='Madrid', state_or_province='Community of Madrid', country='Spain')), FakeProfile(name='Yuki Tanaka', occupation='Health Economist', industry='Healthcare Policy', job_description='Analyzing economic aspects of health care systems', education=<EducationLevels.PHD: 'phd'>, major='Health Economics', location=Location(city='Tokyo', state_or_province='', country='Japan')), FakeProfile(name='Mohamed Farah', occupation='Dentist', industry='Healthcare', job_description='Diagnosing and treating dental issues', education=<EducationLevels.MASTERS: 'masters'>, major='Dentistry', location=Location(city='Nairobi', state_or_province='Nairobi County', country='Kenya')), FakeProfile(name='Julia Ivanova', occupation='Medical Writer', industry='Publishing', job_description='Writing scientific and medical content', education=<EducationLevels.BACHELORS: 'bachelors'>, major='Journalism', location=Location(city='Moscow', state_or_province='Moscow', country='Russia')), FakeProfile(name='Diego Gonzalez', occupation='Pediatrician', industry='Healthcare', job_description='Providing healthcare to children', education=<EducationLevels.MASTERS: 'masters'>, major='Pediatrics', location=Location(city='Buenos Aires', state_or_province='Buenos Aires', country='Argentina')), FakeProfile(name='Esther Kimani', occupation='Optometrist', industry='Eye Care', job_description='Examining eyes and prescribing corrective lenses', education=<EducationLevels.MASTERS: 'masters'>, major='Optometry', location=Location(city='Kampala', state_or_province='Central Region', country='Uganda')), FakeProfile(name='Olivia Gruber', occupation='Nutritionist', industry='Wellness', job_description='Advising on diet and nutrition for health and wellness', education=<EducationLevels.BACHELORS: 'bachelors'>, major='Nutrition Science', location=Location(city='Vienna', state_or_province='Vienna', country='Austria')), FakeProfile(name='Alicia Yee', occupation='Research Scientist', industry='Pharmaceuticals', job_description='Conducting research to develop new drugs', education=<EducationLevels.PHD: 'phd'>, major='Pharmacology', location=Location(city='Singapore', state_or_province='', country='Singapore'))]),\n",
       " 'rec.sport.hockey': FakeProfiles(profiles=[FakeProfile(name='Ethan Jones', occupation='Sports Analyst', industry='Media', job_description='Covering hockey games and providing expert commentary for television broadcasts.', education=<EducationLevels.BACHELORS: 'bachelors'>, major='Journalism', location=Location(city='Toronto', state_or_province='Ontario', country='Canada')), FakeProfile(name='Ava Smith', occupation='Physical Therapist', industry='Healthcare', job_description='Specializing in sports injuries with a focus on helping hockey players recover.', education=<EducationLevels.MASTERS: 'masters'>, major='Physical Therapy', location=Location(city='Minneapolis', state_or_province='Minnesota', country='USA')), FakeProfile(name='Liam Brown', occupation='Sports Marketing Manager', industry='Advertising', job_description='Developing and implementing marketing strategies for hockey teams and related products.', education=<EducationLevels.BACHELORS: 'bachelors'>, major='Marketing', location=Location(city='New York', state_or_province='New York', country='USA')), FakeProfile(name='Olivia Garcia', occupation='Event Coordinator', industry='Entertainment', job_description='Organizing hockey events and tournaments.', education=<EducationLevels.BACHELORS: 'bachelors'>, major='Event Management', location=Location(city='Montreal', state_or_province='Quebec', country='Canada')), FakeProfile(name='William Johnson', occupation='Sports Equipment Manager', industry='Retail', job_description='Managing the inventory and purchasing of hockey equipment for retail chains.', education=<EducationLevels.BACHELORS: 'bachelors'>, major='Business Administration', location=Location(city='Boston', state_or_province='Massachusetts', country='USA')), FakeProfile(name='Sophia Martinez', occupation='Recreation Coordinator', industry='Public Services', job_description='Organizing community hockey leagues and recreational programs.', education=<EducationLevels.BACHELORS: 'bachelors'>, major='Recreation Management', location=Location(city='Detroit', state_or_province='Michigan', country='USA')), FakeProfile(name='James Taylor', occupation='Data Analyst', industry='Sports', job_description='Analyzing statistics and performance metrics for hockey teams.', education=<EducationLevels.BACHELORS: 'bachelors'>, major='Statistics', location=Location(city='Vancouver', state_or_province='British Columbia', country='Canada')), FakeProfile(name='Isabella Anderson', occupation='Youth Hockey Coach', industry='Education', job_description='Coaching and mentoring young hockey players in school teams.', education=<EducationLevels.BACHELORS: 'bachelors'>, major='Physical Education', location=Location(city='Buffalo', state_or_province='New York', country='USA')), FakeProfile(name='Benjamin Wilson', occupation='Sports Journalist', industry='Media', job_description='Writing articles and reports on hockey games and events.', education=<EducationLevels.BACHELORS: 'bachelors'>, major='Communication', location=Location(city='Philadelphia', state_or_province='Pennsylvania', country='USA')), FakeProfile(name='Charlotte Johnson', occupation='Public Relations Specialist', industry='Public Relations', job_description='Managing the public image and relations of hockey players and teams.', education=<EducationLevels.BACHELORS: 'bachelors'>, major='Public Relations', location=Location(city='Calgary', state_or_province='Alberta', country='Canada')), FakeProfile(name='Michael Rodriguez', occupation='Game Day Operations Manager', industry='Sports Management', job_description='Overseeing the logistics of hockey game days including staffing and venue management.', education=<EducationLevels.MASTERS: 'masters'>, major='Sports Management', location=Location(city='Chicago', state_or_province='Illinois', country='USA')), FakeProfile(name='Amelia Davis', occupation='P.E. Teacher', industry='Education', job_description='Teaching physical education with an emphasis on team sports like hockey.', education=<EducationLevels.BACHELORS: 'bachelors'>, major='Education', location=Location(city='Pittsburgh', state_or_province='Pennsylvania', country='USA')), FakeProfile(name='Noah Garcia', occupation='Fitness Trainer', industry='Health & Wellness', job_description='Providing specialized training programs for hockey athletes to improve performance.', education=<EducationLevels.NONE: 'none'>, major='Exercise Science', location=Location(city='Denver', state_or_province='Colorado', country='USA')), FakeProfile(name='Evelyn Martinez', occupation='Sports Psychologist', industry='Healthcare', job_description='Working with hockey players to enhance their mental game and deal with the pressures of professional sports.', education=<EducationLevels.PHD: 'phd'>, major='Psychology', location=Location(city='Winnipeg', state_or_province='Manitoba', country='Canada')), FakeProfile(name='Lucas Wilson', occupation='Ice Rink Manager', industry='Facilities Management', job_description='Managing the operations of an ice rink that hosts hockey games and practice sessions.', education=<EducationLevels.NONE: 'none'>, major='Facilities Management', location=Location(city='Seattle', state_or_province='Washington', country='USA')), FakeProfile(name='Mia Thompson', occupation='Nutritionist', industry='Healthcare', job_description='Advising hockey athletes on diet and nutrition to optimize their on-ice performance.', education=<EducationLevels.MASTERS: 'masters'>, major='Dietetics', location=Location(city='Ottawa', state_or_province='Ontario', country='Canada')), FakeProfile(name='Elijah White', occupation='Sports Agent', industry='Sports Management', job_description='Representing professional hockey players in negotiations and endorsements.', education=<EducationLevels.BACHELORS: 'bachelors'>, major='Law', location=Location(city='San Jose', state_or_province='California', country='USA')), FakeProfile(name='Abigail Harris', occupation='Team Merchandising Officer', industry='Retail', job_description='Managing the merchandising and sale of hockey team apparel and accessories.', education=<EducationLevels.BACHELORS: 'bachelors'>, major='Retail Management', location=Location(city='Edmonton', state_or_province='Alberta', country='Canada')), FakeProfile(name='Logan Clark', occupation='Digital Marketing Specialist', industry='Advertising', job_description='Creating digital marketing campaigns for hockey equipment and streaming services.', education=<EducationLevels.BACHELORS: 'bachelors'>, major='Digital Marketing', location=Location(city='Las Vegas', state_or_province='Nevada', country='USA')), FakeProfile(name='Sophie Martin', occupation='Stadium Security Manager', industry='Security', job_description='Ensuring the safety and security of attendees at hockey games and events.', education=<EducationLevels.NONE: 'none'>, major=None, location=Location(city='Halifax', state_or_province='Nova Scotia', country='Canada'))]),\n",
       " 'sci.space': FakeProfiles(profiles=[FakeProfile(name='Jonathan Foster', occupation='Software Developer', industry='Technology', job_description='Develops software for aerospace applications.', education=<EducationLevels.MASTERS: 'masters'>, major='Computer Science', location=Location(city='Huntsville', state_or_province='Alabama', country='USA')), FakeProfile(name='Linda Nguyen', occupation='High School Teacher', industry='Education', job_description='Teaches physics and astronomy.', education=<EducationLevels.BACHELORS: 'bachelors'>, major='Education with a focus on Physics', location=Location(city='Pasadena', state_or_province='California', country='USA')), FakeProfile(name='Carlos Ramirez', occupation='Mechanical Engineer', industry='Aerospace', job_description='Designs components for space vehicles.', education=<EducationLevels.MASTERS: 'masters'>, major='Mechanical Engineering', location=Location(city='Melbourne', state_or_province='Florida', country='USA')), FakeProfile(name='Sarah Goldberg', occupation='Research Scientist', industry='Physics', job_description='Conducts research on space-time phenomena.', education=<EducationLevels.PHD: 'phd'>, major='Physics', location=Location(city='Boulder', state_or_province='Colorado', country='USA')), FakeProfile(name='Derek Sun', occupation='Journalist', industry='Media', job_description='Reports on space exploration and technology advancements.', education=<EducationLevels.BACHELORS: 'bachelors'>, major='Journalism', location=Location(city='Washington', state_or_province='D.C.', country='USA')), FakeProfile(name='Emily Patel', occupation='Product Manager', industry='Technology', job_description='Oversees development of satellite-related products.', education=<EducationLevels.MASTERS: 'masters'>, major=None, location=Location(city='Atlanta', state_or_province='Georgia', country='USA')), FakeProfile(name='Brian Cho', occupation='Venture Capitalist', industry='Finance', job_description='Invests in space startups and technologies.', education=<EducationLevels.MASTERS: 'masters'>, major=None, location=Location(city='San Francisco', state_or_province='California', country='USA')), FakeProfile(name='Anita Schmidt', occupation='Policy Analyst', industry='Government', job_description='Develops policies related to space exploration.', education=<EducationLevels.MASTERS: 'masters'>, major='Political Science', location=Location(city='Arlington', state_or_province='Virginia', country='USA')), FakeProfile(name='Robert Kawalski', occupation='Electrical Engineer', industry='Communications', job_description='Designs communication systems for satellites.', education=<EducationLevels.BACHELORS: 'bachelors'>, major='Electrical Engineering', location=Location(city='Greenbelt', state_or_province='Maryland', country='USA')), FakeProfile(name='Chloe Zeng', occupation='Data Analyst', industry='Technology', job_description='Analyzes data from space exploration missions.', education=<EducationLevels.BACHELORS: 'bachelors'>, major='Data Science', location=Location(city='Mountain View', state_or_province='California', country='USA')), FakeProfile(name='Michael Abrams', occupation='Astrophysicist', industry='Science', job_description='Studies the physical properties of celestial bodies.', education=<EducationLevels.PHD: 'phd'>, major='Astrophysics', location=Location(city='Cambridge', state_or_province='Massachusetts', country='USA')), FakeProfile(name='Sophia Ferrara', occupation='Geologist', industry='Research', job_description='Researches planetary geology and meteorite impacts.', education=<EducationLevels.MASTERS: 'masters'>, major='Geology', location=Location(city='Houston', state_or_province='Texas', country='USA')), FakeProfile(name='Erica Winters', occupation='Entrepreneur', industry='Space Tourism', job_description='Founding a company focused on commercial space travel.', education=<EducationLevels.MASTERS: 'masters'>, major='Business Administration', location=Location(city='Seattle', state_or_province='Washington', country='USA')), FakeProfile(name='Omar Hassan', occupation='Software Engineer', industry='Information Technology', job_description='Specializes in developing flight software for spacecraft.', education=<EducationLevels.BACHELORS: 'bachelors'>, major='Software Engineering', location=Location(city='Irvine', state_or_province='California', country='USA')), FakeProfile(name='Nina Petrova', occupation='Environmental Scientist', industry='Environmental Services', job_description=\"Studies the impact of space debris on Earth's environment.\", education=<EducationLevels.PHD: 'phd'>, major='Environmental Science', location=Location(city='Orlando', state_or_province='Florida', country='USA')), FakeProfile(name='Alex Jennings', occupation='UX Designer', industry='Design', job_description='Designs user interfaces for satellite control software.', education=<EducationLevels.BACHELORS: 'bachelors'>, major='Graphic Design', location=Location(city='Austin', state_or_province='Texas', country='USA')), FakeProfile(name='Grace Lee', occupation='Physicist', industry='Research and Development', job_description='Works on propulsion systems for interstellar travel.', education=<EducationLevels.PHD: 'phd'>, major='Physics', location=Location(city='Chicago', state_or_province='Illinois', country='USA')), FakeProfile(name='David Zhao', occupation='Economist', industry='Academia', job_description='Researches the economic impact of space missions.', education=<EducationLevels.PHD: 'phd'>, major='Economics', location=Location(city='Philadelphia', state_or_province='Pennsylvania', country='USA')), FakeProfile(name='Brandon Matthews', occupation='AI Developer', industry='Artificial Intelligence', job_description='Develops AI systems for autonomous spacecraft navigation.', education=<EducationLevels.MASTERS: 'masters'>, major='Computer Science', location=Location(city='Palo Alto', state_or_province='California', country='USA')), FakeProfile(name='Ava Smith', occupation='Flight Controller', industry='Aviation', job_description='Monitors and controls space flight operations.', education=<EducationLevels.BACHELORS: 'bachelors'>, major='Aerospace Engineering', location=Location(city='Kennedy Space Center', state_or_province='Florida', country='USA'))]),\n",
       " 'soc.religion.christian': FakeProfiles(profiles=[FakeProfile(name='James Bennett', occupation='Community Outreach Coordinator', industry='Non-Profit', job_description='Organizes community religious events and supports church initiatives.', education=<EducationLevels.BACHELORS: 'bachelors'>, major='Religious Studies', location=Location(city='Charlotte', state_or_province='North Carolina', country='USA')), FakeProfile(name='Elizabeth Johnson', occupation='High School Teacher', industry='Education', job_description='Teaches world religions, focusing on Christianity, to high school students.', education=<EducationLevels.MASTERS: 'masters'>, major='History of Religion', location=Location(city='Austin', state_or_province='Texas', country='USA')), FakeProfile(name='Michael Thompson', occupation='Author', industry='Publishing', job_description='Writes christian fiction and non-fiction books.', education=<EducationLevels.BACHELORS: 'bachelors'>, major='Creative Writing', location=Location(city='Nashville', state_or_province='Tennessee', country='USA')), FakeProfile(name='Samantha Brooks', occupation='Music Director', industry='Entertainment', job_description='Leads a church choir and organizes religious music events.', education=<EducationLevels.BACHELORS: 'bachelors'>, major='Music', location=Location(city='Chicago', state_or_province='Illinois', country='USA')), FakeProfile(name='Edward Wallace', occupation='Counselor', industry='Healthcare', job_description='Provides spiritual counseling and guidance based on Christian principles.', education=<EducationLevels.MASTERS: 'masters'>, major='Clinical Psychology', location=Location(city='Columbus', state_or_province='Ohio', country='USA')), FakeProfile(name='Sara Parker', occupation='Documentary Filmmaker', industry='Media', job_description='Produces documentaries on religious topics, including Christian history and culture.', education=<EducationLevels.BACHELORS: 'bachelors'>, major='Film Studies', location=Location(city='Los Angeles', state_or_province='California', country='USA')), FakeProfile(name='Brian Reyes', occupation='Art Director', industry='Advertising', job_description='Creates ad campaigns for Christian organizations and charities.', education=<EducationLevels.BACHELORS: 'bachelors'>, major='Graphic Design', location=Location(city='New York', state_or_province='New York', country='USA')), FakeProfile(name='Olivia Sanchez', occupation='Librarian', industry='Education', job_description='Manages a religious studies section in a public library, with an emphasis on Christianity.', education=<EducationLevels.MASTERS: 'masters'>, major='Library Science', location=Location(city='Seattle', state_or_province='Washington', country='USA')), FakeProfile(name='Matthew Gibson', occupation='Software Engineer', industry='Technology', job_description='Develops software for non-profit Christian organizations.', education=<EducationLevels.BACHELORS: 'bachelors'>, major='Computer Science', location=Location(city='San Francisco', state_or_province='California', country='USA')), FakeProfile(name='Grace Kim', occupation='University Chaplain', industry='Education', job_description='Provides spiritual support and religious guidance to students at a Christian university.', education=<EducationLevels.MASTERS: 'masters'>, major='Theology', location=Location(city='Boston', state_or_province='Massachusetts', country='USA')), FakeProfile(name='Anthony Ruiz', occupation='Youth Pastor', industry='Religious', job_description='Leads youth programs and services at a local church.', education=<EducationLevels.BACHELORS: 'bachelors'>, major='Youth Ministry', location=Location(city='Miami', state_or_province='Florida', country='USA')), FakeProfile(name='Laura Hernandez', occupation='Journalist', industry='Media', job_description='Reports on religious news and events, with a focus on Christian communities.', education=<EducationLevels.BACHELORS: 'bachelors'>, major='Journalism', location=Location(city='Atlanta', state_or_province='Georgia', country='USA')), FakeProfile(name='Daniel Peterson', occupation='Architect', industry='Construction', job_description='Designs church buildings and other religious structures.', education=<EducationLevels.BACHELORS: 'bachelors'>, major='Architecture', location=Location(city='Philadelphia', state_or_province='Pennsylvania', country='USA')), FakeProfile(name='Emma Clark', occupation='Bookstore Owner', industry='Retail', job_description='Operates a bookstore specializing in Christian literature.', education=<EducationLevels.HIGH_SCHOOL: 'high_school'>, major=None, location=Location(city='Denver', state_or_province='Colorado', country='USA')), FakeProfile(name='John Martinez', occupation='Non-profit Manager', industry='Non-Profit', job_description='Manages operations for a Christian charity organization.', education=<EducationLevels.MASTERS: 'masters'>, major='Public Administration', location=Location(city='Baltimore', state_or_province='Maryland', country='USA')), FakeProfile(name='Sophia Lopez', occupation='Social Worker', industry='Social Services', job_description='Assists families through faith-based social work in Christian communities.', education=<EducationLevels.BACHELORS: 'bachelors'>, major='Social Work', location=Location(city='Houston', state_or_province='Texas', country='USA')), FakeProfile(name='Ryan Harris', occupation='Seminary Professor', industry='Education', job_description='Teaches courses in Christian theology at a theological seminary.', education=<EducationLevels.PHD: 'phd'>, major='Divinity', location=Location(city='Memphis', state_or_province='Tennessee', country='USA')), FakeProfile(name='Ava Torres', occupation='Event Planner', industry='Event Management', job_description='Specializes in organizing church-related events and religious conferences.', education=<EducationLevels.BACHELORS: 'bachelors'>, major='Event Management', location=Location(city='Las Vegas', state_or_province='Nevada', country='USA')), FakeProfile(name='Matthew Rodriguez', occupation='Accountant', industry='Finance', job_description='Handles financial matters for Christian non-profit organizations.', education=<EducationLevels.BACHELORS: 'bachelors'>, major='Accounting', location=Location(city='Portland', state_or_province='Oregon', country='USA')), FakeProfile(name='Isabella Davis', occupation='Youth Worker', industry='Social Services', job_description='Works with at-risk youth in Christian community programs.', education=<EducationLevels.HIGH_SCHOOL: 'high_school'>, major=None, location=Location(city='Phoenix', state_or_province='Arizona', country='USA'))]),\n",
       " 'talk.politics.guns': FakeProfiles(profiles=[FakeProfile(name='Johnathan Walker', occupation='Security Guard', industry='Security', job_description='Oversees the security protocols for a high-profile corporate office.', education=<EducationLevels.NONE: 'none'>, major=None, location=Location(city='Columbus', state_or_province='Ohio', country='USA')), FakeProfile(name='Michelle Pearson', occupation='Attorney', industry='Law', job_description='Specializes in Second Amendment cases.', education=<EducationLevels.PHD: 'phd'>, major=None, location=Location(city='Austin', state_or_province='Texas', country='USA')), FakeProfile(name='Alex Rivera', occupation='Systems Analyst', industry='IT', job_description='Maintains and improves computer systems for large organizations and assesses the need for new equipment.', education=<EducationLevels.BACHELORS: 'bachelors'>, major=None, location=Location(city='San Jose', state_or_province='California', country='USA')), FakeProfile(name='Grace Kim', occupation='Retail Store Manager', industry='Retail', job_description='Manages a sporting goods store that specializes in outdoor recreation, including firearms.', education=<EducationLevels.HIGH_SCHOOL: 'high_school'>, major=None, location=Location(city='Virginia Beach', state_or_province='Virginia', country='USA')), FakeProfile(name='Samuel Brown', occupation='Blogger', industry='Media', job_description='Writes articles focused on gun rights and gun safety.', education=<EducationLevels.BACHELORS: 'bachelors'>, major=None, location=Location(city='Memphis', state_or_province='Tennessee', country='USA')), FakeProfile(name='Emily Carter', occupation='Political Consultant', industry='Politics', job_description='Advises political campaigns on gun policy positions.', education=<EducationLevels.MASTERS: 'masters'>, major=None, location=Location(city='Denver', state_or_province='Colorado', country='USA')), FakeProfile(name='William Harris', occupation='Veteran', industry='Military', job_description='Recently retired from the military, now active in veteran affairs and advocacy.', education=<EducationLevels.NONE: 'none'>, major=None, location=Location(city='Phoenix', state_or_province='Arizona', country='USA')), FakeProfile(name='Olivia Sanchez', occupation='HR Manager', industry='Corporate', job_description='Develops and implements policies, including workplace safety measures.', education=<EducationLevels.BACHELORS: 'bachelors'>, major=None, location=Location(city='Jackson', state_or_province='Mississippi', country='USA')), FakeProfile(name='Ethan Montgomery', occupation='Research Scientist', industry='Public Health', job_description='Studies the effects of gun ownership on public health outcomes.', education=<EducationLevels.PHD: 'phd'>, major=None, location=Location(city='Philadelphia', state_or_province='Pennsylvania', country='USA')), FakeProfile(name='Sophia Gonzalez', occupation='Lobbyist', industry='Advocacy', job_description='Represents the interests of firearms manufacturers in legislative processes.', education=<EducationLevels.MASTERS: 'masters'>, major=None, location=Location(city='Washington', state_or_province='D.C.', country='USA')), FakeProfile(name='Daniel Lee', occupation='Photographer', industry='Arts', job_description='Specializes in photographing outdoor and hunting excursions.', education=<EducationLevels.NONE: 'none'>, major=None, location=Location(city='Portland', state_or_province='Oregon', country='USA')), FakeProfile(name='Charlotte Murphy', occupation='Forensic Analyst', industry='Law Enforcement', job_description='Analyzes firearm evidence in criminal investigations.', education=<EducationLevels.BACHELORS: 'bachelors'>, major=None, location=Location(city='Las Vegas', state_or_province='Nevada', country='USA')), FakeProfile(name='Benjamin Green', occupation='Game Warden', industry='Environmental Management', job_description='Enforces game laws and educates hunters on safety and regulations.', education=<EducationLevels.BACHELORS: 'bachelors'>, major=None, location=Location(city='Anchorage', state_or_province='Alaska', country='USA')), FakeProfile(name='Chloe Thompson', occupation='Civil Engineer', industry='Construction', job_description='Designs infrastructure including shooting ranges and related facilities.', education=<EducationLevels.BACHELORS: 'bachelors'>, major=None, location=Location(city='Miami', state_or_province='Florida', country='USA')), FakeProfile(name='Lucas Martin', occupation='Retail Buyer', industry='Commerce', job_description='Purchases firearms and related accessories for a national retail chain.', education=<EducationLevels.BACHELORS: 'bachelors'>, major=None, location=Location(city='Atlanta', state_or_province='Georgia', country='USA')), FakeProfile(name='Lily Clark', occupation='Gunsmith', industry='Manufacturing', job_description='Repairs and customizes firearms for individual clients and law enforcement.', education=<EducationLevels.NONE: 'none'>, major=None, location=Location(city='Dallas', state_or_province='Texas', country='USA')), FakeProfile(name='Aiden Rodriguez', occupation='Firearms Instructor', industry='Education', job_description='Teaches gun safety and marksmanship courses at a local range.', education=<EducationLevels.NONE: 'none'>, major=None, location=Location(city='Tampa', state_or_province='Florida', country='USA')), FakeProfile(name='Madison King', occupation='Journalist', industry='Media', job_description='Reports on gun culture and legislative changes affecting firearm ownership.', education=<EducationLevels.BACHELORS: 'bachelors'>, major=None, location=Location(city='New Orleans', state_or_province='Louisiana', country='USA')), FakeProfile(name='Noah Wilson', occupation='Software Developer', industry='Technology', job_description='Develops software for ballistics analysis and firearm inventory management.', education=<EducationLevels.BACHELORS: 'bachelors'>, major=None, location=Location(city='Seattle', state_or_province='Washington', country='USA')), FakeProfile(name='Ava Martinez', occupation='Entrepreneur', industry='E-Commerce', job_description='Operates an online store selling custom gun parts and tactical gear.', education=<EducationLevels.BACHELORS: 'bachelors'>, major=None, location=Location(city='Oklahoma City', state_or_province='Oklahoma', country='USA'))])}"
      ]
     },
     "execution_count": 10,
     "metadata": {},
     "output_type": "execute_result"
    }
   ],
   "source": [
    "profiles_data"
   ]
  },
  {
   "cell_type": "markdown",
   "metadata": {},
   "source": [
    "# Load the 20newsgroups Data\n"
   ]
  },
  {
   "cell_type": "code",
   "execution_count": 11,
   "metadata": {},
   "outputs": [],
   "source": [
    "from sklearn.datasets import fetch_20newsgroups\n",
    "\n",
    "newsgroups_train = fetch_20newsgroups(\n",
    "    subset=\"train\",\n",
    "    remove=(\"headers\", \"footers\"),\n",
    "    random_state=42,\n",
    "    shuffle=True,\n",
    ")"
   ]
  },
  {
   "cell_type": "markdown",
   "metadata": {},
   "source": [
    "# Organize Profile and Articles into Pairs\n"
   ]
  },
  {
   "cell_type": "markdown",
   "metadata": {},
   "source": [
    "Half of the positive cases for each profile will be taken along with an even amount of negative cases. This prevents us from having an overwhelming number of samples to embed while ensuring a even class distribution.\n"
   ]
  },
  {
   "cell_type": "code",
   "execution_count": 12,
   "metadata": {},
   "outputs": [],
   "source": [
    "target_to_name = {i: name for i, name in enumerate(newsgroups_train.target_names)}"
   ]
  },
  {
   "cell_type": "code",
   "execution_count": 13,
   "metadata": {},
   "outputs": [],
   "source": [
    "import random\n",
    "\n",
    "profile_article_pairs = []\n",
    "\n",
    "profile_map = {}\n",
    "article_map = {}\n",
    "\n",
    "for profile_group, profiles in profiles_data.items():\n",
    "    positive_cases = []\n",
    "    negative_cases = []\n",
    "    for profile_idx, profile in enumerate(profiles.profiles):\n",
    "        profile_map[f\"{profile_group}-{profile_idx}\"] = profile\n",
    "\n",
    "        for article_idx, article in enumerate(newsgroups_train.data):\n",
    "            article_map[article_idx] = article\n",
    "\n",
    "            if profile_group == target_to_name[newsgroups_train.target[article_idx]]:\n",
    "                positive_cases.append(\n",
    "                    (\n",
    "                        (f\"{profile_group}-{profile_idx}\", profile),\n",
    "                        (article_idx, article),\n",
    "                        1,\n",
    "                    )\n",
    "                )\n",
    "            else:\n",
    "                negative_cases.append(\n",
    "                    (\n",
    "                        (f\"{profile_group}-{profile_idx}\", profile),\n",
    "                        (article_idx, article),\n",
    "                        0,\n",
    "                    )\n",
    "                )\n",
    "    # Randomly sample equal amount of negative cases\n",
    "    positive_cases = random.sample(positive_cases, len(positive_cases) // 2)\n",
    "    negative_cases = random.sample(negative_cases, len(positive_cases))\n",
    "    profile_article_pairs.extend(positive_cases + negative_cases)"
   ]
  },
  {
   "cell_type": "code",
   "execution_count": 14,
   "metadata": {},
   "outputs": [
    {
     "name": "stdout",
     "output_type": "stream",
     "text": [
      "104274\n"
     ]
    }
   ],
   "source": [
    "print(len(profile_article_pairs))"
   ]
  },
  {
   "cell_type": "markdown",
   "metadata": {},
   "source": [
    "# Embedding Data\n",
    "\n",
    "The Unversal AnglE Embedding model is used for all embeddings.\n"
   ]
  },
  {
   "cell_type": "code",
   "execution_count": 15,
   "metadata": {},
   "outputs": [
    {
     "name": "stderr",
     "output_type": "stream",
     "text": [
      "/Users/evanwechsler/Library/Caches/pypoetry/virtualenvs/comp550-final-AKPHVsqj-py3.9/lib/python3.9/site-packages/tqdm/auto.py:21: TqdmWarning: IProgress not found. Please update jupyter and ipywidgets. See https://ipywidgets.readthedocs.io/en/stable/user_install.html\n",
      "  from .autonotebook import tqdm as notebook_tqdm\n"
     ]
    }
   ],
   "source": [
    "from angle_emb import AnglE\n",
    "\n",
    "angle_model = AnglE.from_pretrained(\n",
    "    \"WhereIsAI/UAE-Large-V1\", pooling_strategy=\"cls\"\n",
    ").cuda()"
   ]
  },
  {
   "cell_type": "markdown",
   "metadata": {},
   "source": [
    "All embeddings are pickled after to prevent redoing this procedure.\n"
   ]
  },
  {
   "cell_type": "code",
   "execution_count": 16,
   "metadata": {},
   "outputs": [
    {
     "name": "stdout",
     "output_type": "stream",
     "text": [
      "181\n"
     ]
    }
   ],
   "source": [
    "import pickle\n",
    "\n",
    "angle_profile_embeddings_map = {}\n",
    "\n",
    "# Check if we have already computed the embeddings\n",
    "try:\n",
    "    with open(\"../data/angle_profile_embeddings_map.pickle\", \"rb\") as f:\n",
    "        angle_profile_embeddings_map = pickle.load(f)\n",
    "except:\n",
    "    angle_profile_embeddings_map = {\n",
    "        i: angle_model.encode(\n",
    "            f\"{profile.occupation} {profile.industry} {profile.job_description} {profile.education} {profile.major} {profile.location.city} {profile.location.state_or_province} {profile.location.country}\",\n",
    "            to_numpy=True,\n",
    "        )\n",
    "        for i, profile in tqdm(profile_map.items())\n",
    "    }\n",
    "\n",
    "    with open(\"../data/angle_profile_embeddings_map.pickle\", \"wb\") as f:\n",
    "        pickle.dump(angle_profile_embeddings_map, f)\n",
    "\n",
    "print(len(angle_profile_embeddings_map))"
   ]
  },
  {
   "cell_type": "markdown",
   "metadata": {},
   "source": [
    "The artcles are preprocessed before embedding.\n"
   ]
  },
  {
   "cell_type": "code",
   "execution_count": 17,
   "metadata": {},
   "outputs": [],
   "source": [
    "import re\n",
    "\n",
    "\n",
    "def preprocess(x: str) -> str:\n",
    "    x = x.replace(\"\\n\", \" \").replace(\"\\t\", \" \").replace(\"\\r\", \" \")\n",
    "\n",
    "    # Remove emails\n",
    "    x = re.sub(r\"\\S*@\\S*\\s?\", \"\", x)\n",
    "\n",
    "    # Remove special characters\n",
    "    x = re.sub(r\"[^a-zA-Z0-9 ]\", \"\", x)\n",
    "\n",
    "    # Remove extra spaces\n",
    "    x = re.sub(\" +\", \" \", x)\n",
    "\n",
    "    return x.lower()"
   ]
  },
  {
   "cell_type": "code",
   "execution_count": 18,
   "metadata": {},
   "outputs": [],
   "source": [
    "angle_article_embeddings_map = {}\n",
    "\n",
    "# Check if we have already computed the embeddings\n",
    "try:\n",
    "    with open(\"../data/angle_article_embeddings_map.pickle\", \"rb\") as f:\n",
    "        angle_article_embeddings_map = pickle.load(f)\n",
    "except:\n",
    "    angle_article_embeddings_map = {\n",
    "        i: angle_model.encode(preprocess(article), to_numpy=True)\n",
    "        for i, article in tqdm(article_map.items(), desc=\"Computing article embeddings\")\n",
    "    }\n",
    "\n",
    "    with open(\"../data/angle_article_embeddings_map.pickle\", \"wb\") as f:\n",
    "        pickle.dump(angle_article_embeddings_map, f)"
   ]
  },
  {
   "cell_type": "code",
   "execution_count": 19,
   "metadata": {},
   "outputs": [
    {
     "name": "stderr",
     "output_type": "stream",
     "text": [
      "100%|██████████| 104274/104274 [00:00<00:00, 623279.16it/s]\n"
     ]
    }
   ],
   "source": [
    "angle_pair_embeddings = [\n",
    "    (angle_profile_embeddings_map[i], angle_article_embeddings_map[j], label)\n",
    "    for (i, _), (j, _), label in tqdm(profile_article_pairs)\n",
    "]"
   ]
  },
  {
   "cell_type": "markdown",
   "metadata": {},
   "source": [
    "# Split Data\n",
    "\n",
    "The data was split into a training and test set. The test set is 20% of the total size.\n"
   ]
  },
  {
   "cell_type": "code",
   "execution_count": 20,
   "metadata": {},
   "outputs": [
    {
     "name": "stdout",
     "output_type": "stream",
     "text": [
      "Train size: 83419\n",
      "Test size: 20855\n"
     ]
    }
   ],
   "source": [
    "np.random.shuffle(angle_pair_embeddings)\n",
    "train_cutoff = int(len(angle_pair_embeddings) * 0.8)\n",
    "train_pairs = angle_pair_embeddings[:train_cutoff]\n",
    "test_pairs = angle_pair_embeddings[train_cutoff:]\n",
    "\n",
    "print(f\"Train size: {len(train_pairs)}\")\n",
    "print(f\"Test size: {len(test_pairs)}\")"
   ]
  },
  {
   "cell_type": "code",
   "execution_count": 21,
   "metadata": {},
   "outputs": [
    {
     "name": "stdout",
     "output_type": "stream",
     "text": [
      "Train profile embeddings shape: (83419, 1024)\n",
      "Train article embeddings shape: (83419, 1024)\n",
      "Train labels shape: (83419,)\n",
      "Test profile embeddings shape: (20855, 1024)\n",
      "Test article embeddings shape: (20855, 1024)\n",
      "Test labels shape: (20855,)\n"
     ]
    }
   ],
   "source": [
    "train_profile_embeddings, train_article_embeddings, train_labels = zip(*train_pairs)\n",
    "train_profile_embeddings, train_article_embeddings, train_labels = (\n",
    "    np.array(train_profile_embeddings).squeeze(),\n",
    "    np.array(train_article_embeddings).squeeze(),\n",
    "    np.array(train_labels),\n",
    ")\n",
    "\n",
    "test_profile_embeddings, test_article_embeddings, test_labels = zip(*test_pairs)\n",
    "test_profile_embeddings, test_article_embeddings, test_labels = (\n",
    "    np.array(test_profile_embeddings).squeeze(),\n",
    "    np.array(test_article_embeddings).squeeze(),\n",
    "    np.array(test_labels),\n",
    ")\n",
    "\n",
    "print(f\"Train profile embeddings shape: {train_profile_embeddings.shape}\")\n",
    "print(f\"Train article embeddings shape: {train_article_embeddings.shape}\")\n",
    "print(f\"Train labels shape: {train_labels.shape}\")\n",
    "\n",
    "print(f\"Test profile embeddings shape: {test_profile_embeddings.shape}\")\n",
    "print(f\"Test article embeddings shape: {test_article_embeddings.shape}\")\n",
    "print(f\"Test labels shape: {test_labels.shape}\")"
   ]
  },
  {
   "cell_type": "markdown",
   "metadata": {},
   "source": [
    "# Cosine Similarity\n"
   ]
  },
  {
   "cell_type": "code",
   "execution_count": 22,
   "metadata": {},
   "outputs": [],
   "source": [
    "def cosine_similarity(x: np.ndarray, y: np.ndarray) -> np.ndarray:\n",
    "    # Row wise cosine similarity\n",
    "    return np.sum(x * y, axis=1) / (\n",
    "        np.linalg.norm(x, axis=1) * np.linalg.norm(y, axis=1)\n",
    "    )"
   ]
  },
  {
   "cell_type": "markdown",
   "metadata": {},
   "source": [
    "Compute the pairwise cosine similarity for the traning set.\n"
   ]
  },
  {
   "cell_type": "code",
   "execution_count": 23,
   "metadata": {},
   "outputs": [
    {
     "name": "stdout",
     "output_type": "stream",
     "text": [
      "Train cosine similarities shape: (83419, 1)\n"
     ]
    }
   ],
   "source": [
    "train_cosine_similarities = cosine_similarity(\n",
    "    train_profile_embeddings, train_article_embeddings\n",
    ").reshape(-1, 1)\n",
    "\n",
    "print(f\"Train cosine similarities shape: {train_cosine_similarities.shape}\")"
   ]
  },
  {
   "cell_type": "markdown",
   "metadata": {},
   "source": [
    "## Perceptron\n",
    "\n",
    "We fit a perceptron to the similarity data. This will highlight if this data is linearly seperable.\n"
   ]
  },
  {
   "cell_type": "code",
   "execution_count": 24,
   "metadata": {},
   "outputs": [
    {
     "name": "stdout",
     "output_type": "stream",
     "text": [
      "Perceptron score: 0.518251237727616\n",
      "F1 score: 0.6731834261781807\n",
      "Precision score: 0.5098423256959842\n",
      "Recall score: 0.9905229149216226\n",
      "              precision    recall  f1-score   support\n",
      "\n",
      "           0       0.82      0.04      0.08     41634\n",
      "           1       0.51      0.99      0.67     41785\n",
      "\n",
      "    accuracy                           0.52     83419\n",
      "   macro avg       0.67      0.52      0.38     83419\n",
      "weighted avg       0.67      0.52      0.38     83419\n",
      "\n"
     ]
    }
   ],
   "source": [
    "from sklearn.linear_model import Perceptron\n",
    "from sklearn.metrics import (\n",
    "    accuracy_score,\n",
    "    classification_report,\n",
    "    f1_score,\n",
    "    precision_score,\n",
    "    recall_score,\n",
    ")\n",
    "\n",
    "perceptron = Perceptron()\n",
    "\n",
    "perceptron.fit(train_cosine_similarities, train_labels)\n",
    "\n",
    "print(f\"Perceptron score: {perceptron.score(train_cosine_similarities, train_labels)}\")\n",
    "print(\n",
    "    f\"F1 score: {f1_score(train_labels, perceptron.predict(train_cosine_similarities))}\"\n",
    ")\n",
    "print(\n",
    "    f\"Precision score: {precision_score(train_labels, perceptron.predict(train_cosine_similarities))}\"\n",
    ")\n",
    "print(\n",
    "    f\"Recall score: {recall_score(train_labels, perceptron.predict(train_cosine_similarities))}\"\n",
    ")\n",
    "\n",
    "print(\n",
    "    classification_report(train_labels, perceptron.predict(train_cosine_similarities))\n",
    ")"
   ]
  },
  {
   "cell_type": "markdown",
   "metadata": {},
   "source": [
    "Evaluate test results.\n"
   ]
  },
  {
   "cell_type": "code",
   "execution_count": 26,
   "metadata": {},
   "outputs": [
    {
     "name": "stdout",
     "output_type": "stream",
     "text": [
      "Test cosine similarities shape: (20855, 1)\n",
      "Perceptron score: 0.5134500119875329\n",
      "F1 score: 0.6690584129676135\n",
      "Precision score: 0.5050470234871239\n",
      "Recall score: 0.9908230293663061\n",
      "              precision    recall  f1-score   support\n",
      "\n",
      "           0       0.83      0.04      0.08     10503\n",
      "           1       0.51      0.99      0.67     10352\n",
      "\n",
      "    accuracy                           0.51     20855\n",
      "   macro avg       0.67      0.52      0.38     20855\n",
      "weighted avg       0.67      0.51      0.37     20855\n",
      "\n"
     ]
    }
   ],
   "source": [
    "test_cosine_similarities = cosine_similarity(\n",
    "    test_profile_embeddings, test_article_embeddings\n",
    ").reshape(-1, 1)\n",
    "\n",
    "print(f\"Test cosine similarities shape: {test_cosine_similarities.shape}\")\n",
    "\n",
    "print(f\"Perceptron score: {perceptron.score(test_cosine_similarities, test_labels)}\")\n",
    "print(\n",
    "    f\"F1 score: {f1_score(test_labels, perceptron.predict(test_cosine_similarities))}\"\n",
    ")\n",
    "print(\n",
    "    f\"Precision score: {precision_score(test_labels, perceptron.predict(test_cosine_similarities))}\"\n",
    ")\n",
    "print(\n",
    "    f\"Recall score: {recall_score(test_labels, perceptron.predict(test_cosine_similarities))}\"\n",
    ")\n",
    "\n",
    "print(classification_report(test_labels, perceptron.predict(test_cosine_similarities)))"
   ]
  },
  {
   "cell_type": "markdown",
   "metadata": {},
   "source": [
    "## Threshold Search\n",
    "\n",
    "This strategy aims to find a threshold cosine similarity to define the boundary between positive and negative cases. The search is designed to find the threshold that maximizes the F1-Score.\n"
   ]
  },
  {
   "cell_type": "code",
   "execution_count": 30,
   "metadata": {},
   "outputs": [],
   "source": [
    "from sklearn.metrics import f1_score, accuracy_score\n",
    "\n",
    "\n",
    "def bisection_search(cosine_similarities, binary_labels, precision=0.001):\n",
    "    \"\"\"\n",
    "    Bisection search to find the optimal threshold for cosine similarity to maximize F1 score.\n",
    "\n",
    "    :param cosine_similarities: NumPy array of cosine similarity values.\n",
    "    :param binary_labels: NumPy array of corresponding binary labels (0 or 1).\n",
    "    :param precision: The precision for the threshold value.\n",
    "    :return: Optimal threshold for cosine similarity.\n",
    "    \"\"\"\n",
    "    if (\n",
    "        cosine_similarities.size == 0\n",
    "        or binary_labels.size == 0\n",
    "        or cosine_similarities.size != binary_labels.size\n",
    "    ):\n",
    "        raise ValueError(\n",
    "            \"Invalid input: Cosine similarities and binary labels must be non-empty and of equal length.\"\n",
    "        )\n",
    "\n",
    "    def calculate_f1_score(threshold):\n",
    "        predictions = cosine_similarities >= threshold\n",
    "        return f1_score(binary_labels, predictions)\n",
    "\n",
    "    def calculate_accuracy(threshold):\n",
    "        predictions = cosine_similarities >= threshold\n",
    "        return accuracy_score(binary_labels, predictions)\n",
    "\n",
    "    # Initialize low and high bounds for the threshold\n",
    "    low, high = 0, 1\n",
    "\n",
    "    best_threshold = low\n",
    "    best_f1 = 0\n",
    "\n",
    "    while high - low > precision:\n",
    "        mid = (low + high) / 2\n",
    "        f1_mid = calculate_f1_score(mid)\n",
    "        # f1_mid = calculate_accuracy(mid)\n",
    "\n",
    "        # Check if this threshold gives a better F1 score\n",
    "        if f1_mid > best_f1:\n",
    "            best_f1 = f1_mid\n",
    "            best_threshold = mid\n",
    "\n",
    "        # Adjust the bounds based on the F1 score\n",
    "        f1_low = calculate_f1_score(low)\n",
    "        f1_high = calculate_f1_score(high)\n",
    "        # f1_low = calculate_accuracy(low)\n",
    "        # f1_high = calculate_accuracy(high)\n",
    "\n",
    "        if f1_low < f1_mid > f1_high:\n",
    "            low = mid\n",
    "        else:\n",
    "            high = mid\n",
    "\n",
    "    return best_threshold"
   ]
  },
  {
   "cell_type": "code",
   "execution_count": 31,
   "metadata": {},
   "outputs": [
    {
     "name": "stdout",
     "output_type": "stream",
     "text": [
      "Threshold: 0.375\n"
     ]
    }
   ],
   "source": [
    "threshold = bisection_search(train_cosine_similarities, train_labels)\n",
    "\n",
    "print(f\"Threshold: {threshold}\")"
   ]
  },
  {
   "cell_type": "code",
   "execution_count": 32,
   "metadata": {},
   "outputs": [
    {
     "name": "stdout",
     "output_type": "stream",
     "text": [
      "Train accuracy: 0.7196921564631559\n",
      "              precision    recall  f1-score   support\n",
      "\n",
      "           0       0.70      0.76      0.73     41634\n",
      "           1       0.74      0.68      0.71     41785\n",
      "\n",
      "    accuracy                           0.72     83419\n",
      "   macro avg       0.72      0.72      0.72     83419\n",
      "weighted avg       0.72      0.72      0.72     83419\n",
      "\n"
     ]
    }
   ],
   "source": [
    "from sklearn.metrics import classification_report\n",
    "\n",
    "train_pred = train_cosine_similarities >= threshold\n",
    "train_accuracy = np.sum(train_pred.squeeze() == train_labels) / len(train_labels)\n",
    "\n",
    "print(f\"Train accuracy: {train_accuracy}\")\n",
    "print(classification_report(train_labels, train_pred))"
   ]
  },
  {
   "cell_type": "code",
   "execution_count": 33,
   "metadata": {},
   "outputs": [
    {
     "name": "stdout",
     "output_type": "stream",
     "text": [
      "0.17302714\n"
     ]
    }
   ],
   "source": [
    "print(np.min(train_cosine_similarities))"
   ]
  },
  {
   "cell_type": "code",
   "execution_count": 34,
   "metadata": {},
   "outputs": [
    {
     "name": "stdout",
     "output_type": "stream",
     "text": [
      "Test accuracy: 0.7196835291297051\n",
      "Test F1 score: 0.7084580091761421\n",
      "Test precision score: 0.7322680412371134\n",
      "Test recall score: 0.6861476043276662\n",
      "              precision    recall  f1-score   support\n",
      "\n",
      "           0       0.71      0.75      0.73     10503\n",
      "           1       0.73      0.69      0.71     10352\n",
      "\n",
      "    accuracy                           0.72     20855\n",
      "   macro avg       0.72      0.72      0.72     20855\n",
      "weighted avg       0.72      0.72      0.72     20855\n",
      "\n"
     ]
    }
   ],
   "source": [
    "test_cosine_similarities = cosine_similarity(\n",
    "    test_profile_embeddings, test_article_embeddings\n",
    ")\n",
    "\n",
    "test_pred = test_cosine_similarities >= threshold\n",
    "\n",
    "test_accuracy = np.sum(test_pred == test_labels) / len(test_labels)\n",
    "\n",
    "print(f\"Test accuracy: {test_accuracy}\")\n",
    "print(f\"Test F1 score: {f1_score(test_labels, test_pred)}\")\n",
    "print(f\"Test precision score: {precision_score(test_labels, test_pred)}\")\n",
    "print(f\"Test recall score: {recall_score(test_labels, test_pred)}\")\n",
    "\n",
    "print(classification_report(test_labels, test_pred))"
   ]
  },
  {
   "cell_type": "markdown",
   "metadata": {},
   "source": [
    "# Neural Network\n",
    "\n",
    "In this section, we try to use the embedding vectors as inputs to a neural network. The NN is a standard feed forward network with dropout.\n"
   ]
  },
  {
   "cell_type": "code",
   "execution_count": null,
   "metadata": {},
   "outputs": [],
   "source": [
    "import torch\n",
    "import torch.nn as nn\n",
    "import torch.optim as optim\n",
    "\n",
    "\n",
    "class MLPClassifier(nn.Module):\n",
    "    def __init__(self, input_size):\n",
    "        super(MLPClassifier, self).__init__()\n",
    "        self.fc1 = nn.Linear(input_size, 512)\n",
    "        self.dropout1 = nn.Dropout(0.5)\n",
    "        self.fc2 = nn.Linear(512, 256)\n",
    "        self.dropout2 = nn.Dropout(0.5)\n",
    "        self.fc3 = nn.Linear(256, 128)\n",
    "        self.dropout3 = nn.Dropout(0.5)\n",
    "        self.fc4 = nn.Linear(128, 64)\n",
    "        self.fc5 = nn.Linear(64, 1)  # Output layer for binary classification\n",
    "\n",
    "    def forward(self, x):\n",
    "        x = torch.relu(self.fc1(x))\n",
    "        x = self.dropout1(x)\n",
    "        x = torch.relu(self.fc2(x))\n",
    "        x = self.dropout2(x)\n",
    "        x = torch.relu(self.fc3(x))\n",
    "        x = self.dropout3(x)\n",
    "        x = torch.relu(self.fc4(x))\n",
    "        return torch.sigmoid(self.fc5(x))  # Sigmoid activation for binary output\n",
    "\n",
    "\n",
    "# Example Usage\n",
    "input_size = train_profile_embeddings.shape[1] + train_article_embeddings.shape[1]\n",
    "\n",
    "model = MLPClassifier(input_size)\n",
    "\n",
    "# Define loss function and optimizer\n",
    "criterion = nn.BCELoss()  # Binary Cross-Entropy Loss\n",
    "optimizer = optim.Adam(model.parameters(), lr=0.001)"
   ]
  },
  {
   "cell_type": "code",
   "execution_count": null,
   "metadata": {},
   "outputs": [],
   "source": [
    "from sklearn.metrics import accuracy_score, f1_score, precision_score, recall_score\n",
    "\n",
    "\n",
    "def evaluate_model(model, x, y_true):\n",
    "    model.eval()  # Set the model to evaluation mode\n",
    "    with torch.no_grad():\n",
    "        y_pred = model(x).squeeze()\n",
    "        y_pred = torch.round(\n",
    "            y_pred\n",
    "        )  # Round probabilities to get binary class predictions\n",
    "\n",
    "    # Convert to numpy arrays for sklearn metrics\n",
    "    y_true = y_true.numpy()\n",
    "    y_pred = y_pred.numpy()\n",
    "\n",
    "    accuracy = accuracy_score(y_true, y_pred)\n",
    "    f1 = f1_score(y_true, y_pred)\n",
    "    precision = precision_score(y_true, y_pred)\n",
    "    recall = recall_score(y_true, y_pred)\n",
    "\n",
    "    return accuracy, f1, precision, recall"
   ]
  },
  {
   "cell_type": "code",
   "execution_count": null,
   "metadata": {},
   "outputs": [],
   "source": [
    "# Convert numpy arrays to torch tensors\n",
    "x_train = torch.from_numpy(\n",
    "    np.concatenate([train_profile_embeddings, train_article_embeddings], axis=1)\n",
    ").float()\n",
    "y_train = torch.from_numpy(train_labels).float()\n",
    "\n",
    "\n",
    "x_test = torch.from_numpy(\n",
    "    np.concatenate([test_profile_embeddings, test_article_embeddings], axis=1)\n",
    ").float()\n",
    "y_test = torch.from_numpy(test_labels).float()\n",
    "\n",
    "\n",
    "try:\n",
    "    with open(\"../models/mlp_model.pickle\", \"rb\") as f:\n",
    "        model = pickle.load(f)\n",
    "except:\n",
    "    # Training and evaluation loop\n",
    "    num_epochs = 1000\n",
    "    for epoch in range(num_epochs):\n",
    "        model.train()  # Set the model to training mode\n",
    "        optimizer.zero_grad()\n",
    "        outputs = model(x_train)\n",
    "        loss = criterion(outputs.squeeze(), y_train)\n",
    "        loss.backward()\n",
    "        optimizer.step()\n",
    "\n",
    "        if epoch % 100 == 0:\n",
    "            # train_acc, train_f1, train_precision, train_recall = evaluate_model(\n",
    "            #     model, x_train, y_train\n",
    "            # )\n",
    "            # test_acc, test_f1, test_precision, test_recall = evaluate_model(\n",
    "            #     model, x_test, y_test\n",
    "            # )\n",
    "\n",
    "            print(\n",
    "                f\"Epoch [{epoch+1}/{num_epochs}], \"\n",
    "                f\"Train Loss: {loss.item():.4f}, \"\n",
    "                # f\"Train Acc: {train_acc:.4f}, Train F1: {train_f1:.4f}, \"\n",
    "                # f\"Test Acc: {test_acc:.4f}, Test F1: {test_f1:.4f}\"\n",
    "            )"
   ]
  },
  {
   "cell_type": "code",
   "execution_count": null,
   "metadata": {},
   "outputs": [],
   "source": [
    "# pickle model\n",
    "\n",
    "import pickle\n",
    "\n",
    "with open(\"../models/mlp_model.pickle\", \"wb\") as f:\n",
    "    pickle.dump(model, f)"
   ]
  },
  {
   "cell_type": "code",
   "execution_count": null,
   "metadata": {},
   "outputs": [],
   "source": [
    "# Final evaluation after training is complete\n",
    "model.eval()  # Set the model to evaluation mode\n",
    "\n",
    "# Evaluate on training data\n",
    "train_acc, train_f1, train_precision, train_recall = evaluate_model(\n",
    "    model, x_train, y_train\n",
    ")\n",
    "print(\n",
    "    f\"Final Training Metrics: Accuracy: {train_acc:.4f}, F1 Score: {train_f1:.4f}, \"\n",
    "    f\"Precision: {train_precision:.4f}, Recall: {train_recall:.4f}\"\n",
    ")\n",
    "\n",
    "# Evaluate on test data\n",
    "test_acc, test_f1, test_precision, test_recall = evaluate_model(model, x_test, y_test)\n",
    "print(\n",
    "    f\"Final Testing Metrics: Accuracy: {test_acc:.4f}, F1 Score: {test_f1:.4f}, \"\n",
    "    f\"Precision: {test_precision:.4f}, Recall: {test_recall:.4f}\"\n",
    ")"
   ]
  },
  {
   "cell_type": "code",
   "execution_count": null,
   "metadata": {},
   "outputs": [],
   "source": []
  }
 ],
 "metadata": {
  "kernelspec": {
   "display_name": ".venv",
   "language": "python",
   "name": "python3"
  },
  "language_info": {
   "codemirror_mode": {
    "name": "ipython",
    "version": 3
   },
   "file_extension": ".py",
   "mimetype": "text/x-python",
   "name": "python",
   "nbconvert_exporter": "python",
   "pygments_lexer": "ipython3",
   "version": "3.9.18"
  }
 },
 "nbformat": 4,
 "nbformat_minor": 2
}
